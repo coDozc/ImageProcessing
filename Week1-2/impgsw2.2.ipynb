{
 "cells": [
  {
   "cell_type": "code",
   "execution_count": 2,
   "id": "19fc9cf5-d309-4658-95f7-7e7ba5705f5e",
   "metadata": {
    "tags": []
   },
   "outputs": [],
   "source": [
    "import cv2\n",
    "import numpy as np \n",
    "\n",
    "height = 512\n",
    "width = 512\n",
    "img = np.random.randint(255, size=(height, width, 1),dtype = np.uint8)\n",
    "\n",
    "cv2.imshow('Binary',img)\n",
    "cv2.waitKey(0)\n",
    "cv2.destroyAllWindows()"
   ]
  },
  {
   "cell_type": "code",
   "execution_count": 5,
   "id": "bd6c6f40-fdec-43cb-919f-43471e37059c",
   "metadata": {
    "tags": []
   },
   "outputs": [
    {
     "name": "stdout",
     "output_type": "stream",
     "text": [
      "[1, 3, 5, 7, 9]\n"
     ]
    }
   ],
   "source": [
    "v = [1,3,5,7,9]\n",
    "print(v)"
   ]
  },
  {
   "cell_type": "code",
   "execution_count": 6,
   "id": "81fd4465-e4f9-4b0c-8db6-ed1d45abba73",
   "metadata": {
    "tags": []
   },
   "outputs": [
    {
     "name": "stdout",
     "output_type": "stream",
     "text": [
      "5\n"
     ]
    }
   ],
   "source": [
    "value = v[2]\n",
    "print(value)"
   ]
  },
  {
   "cell_type": "code",
   "execution_count": 7,
   "id": "8915e56b-a8e3-4590-8123-a68f2dddfc9c",
   "metadata": {
    "tags": []
   },
   "outputs": [
    {
     "name": "stdout",
     "output_type": "stream",
     "text": [
      "[1 3 5 7 9]\n"
     ]
    }
   ],
   "source": [
    "w = np.transpose(v)\n",
    "print(w)"
   ]
  },
  {
   "cell_type": "code",
   "execution_count": 8,
   "id": "1222daa4-3a37-42ec-a0c4-4c6ef8d8b72d",
   "metadata": {
    "tags": []
   },
   "outputs": [
    {
     "name": "stdout",
     "output_type": "stream",
     "text": [
      "[3, 5]\n"
     ]
    }
   ],
   "source": [
    "value = v[1:3]\n",
    "print(value)"
   ]
  },
  {
   "cell_type": "code",
   "execution_count": 9,
   "id": "567849c1-7f1b-4861-98ef-3d35a04dbe08",
   "metadata": {
    "tags": []
   },
   "outputs": [
    {
     "name": "stdout",
     "output_type": "stream",
     "text": [
      "[7, 9]\n"
     ]
    }
   ],
   "source": [
    "value= v[3:]\n",
    "print(value)"
   ]
  },
  {
   "cell_type": "code",
   "execution_count": 11,
   "id": "6cfc5f79-7f8c-4e13-9ccd-2207826351ae",
   "metadata": {
    "tags": []
   },
   "outputs": [
    {
     "name": "stdout",
     "output_type": "stream",
     "text": [
      "[9, 5, 1]\n"
     ]
    }
   ],
   "source": [
    "value = v[::-2]\n",
    "print(value)"
   ]
  },
  {
   "cell_type": "code",
   "execution_count": 12,
   "id": "6ca62cfa-5430-4960-82bb-fb25efdcc99b",
   "metadata": {
    "tags": []
   },
   "outputs": [
    {
     "name": "stdout",
     "output_type": "stream",
     "text": [
      "A = [[1, 4, 5], [-5, 8, 9], [6, 8, 10], [0, 2, 38]]\n",
      "A[1] = [-5, 8, 9]\n",
      "A[1][2] = 9\n",
      "A[0][-1] = 5\n"
     ]
    }
   ],
   "source": [
    "A = [[1,4,5],\n",
    "     [-5,8,9],\n",
    "     [6,8,10],\n",
    "     [0,2,38]]\n",
    "\n",
    "print(\"A =\",A)\n",
    "print(\"A[1] =\",A[1])\n",
    "print(\"A[1][2] =\", A[1][2])\n",
    "print(\"A[0][-1] =\", A[0][-1])"
   ]
  },
  {
   "cell_type": "code",
   "execution_count": 16,
   "id": "13576a75-64e9-44e6-8cc6-46885382a820",
   "metadata": {
    "tags": []
   },
   "outputs": [
    {
     "name": "stdout",
     "output_type": "stream",
     "text": [
      "type:  <class 'numpy.ndarray'>\n",
      "A = \n",
      " [[ 1  4  5]\n",
      " [-5  8  9]\n",
      " [ 6  8 10]\n",
      " [ 0  2 38]] \n",
      "\n",
      "A[1] = [-5  8  9]\n",
      "A[1][2] = 9\n",
      "A[0][-1] = 5\n"
     ]
    }
   ],
   "source": [
    "A =np.array([[1,4,5],\n",
    "     [-5,8,9],\n",
    "     [6,8,10],\n",
    "     [0,2,38]])\n",
    "\n",
    "print(\"type: \", type(A))\n",
    "print(\"A =\", \"\\n\",A,\"\\n\")\n",
    "print(\"A[1] =\",A[1])\n",
    "print(\"A[1][2] =\", A[1][2])\n",
    "print(\"A[0][-1] =\", A[0][-1])"
   ]
  },
  {
   "cell_type": "code",
   "execution_count": 18,
   "id": "c201d07d-2a04-434e-b439-9e57a5e2901e",
   "metadata": {
    "tags": []
   },
   "outputs": [
    {
     "data": {
      "text/plain": [
       "array([2, 3, 9])"
      ]
     },
     "execution_count": 18,
     "metadata": {},
     "output_type": "execute_result"
    }
   ],
   "source": [
    "C =np.array([[1,1,2], [3,5,3], [5,6,9]])\n",
    "C[:,2]"
   ]
  },
  {
   "cell_type": "code",
   "execution_count": 20,
   "id": "79b898d4-b8a5-41fa-968d-89008a25aeb1",
   "metadata": {
    "tags": []
   },
   "outputs": [
    {
     "name": "stdout",
     "output_type": "stream",
     "text": [
      "[[1 1 1]\n",
      " [3 5 1]\n",
      " [5 6 1]]\n"
     ]
    }
   ],
   "source": [
    "C[:,2] =1\n",
    "print(C)"
   ]
  },
  {
   "cell_type": "code",
   "execution_count": 22,
   "id": "796095ff-7054-4b68-9c50-2099bc201e25",
   "metadata": {
    "tags": []
   },
   "outputs": [
    {
     "name": "stdout",
     "output_type": "stream",
     "text": [
      "[ 9 12 14]\n",
      "[ 9 12 14]\n"
     ]
    }
   ],
   "source": [
    "C =np.array([[1,1,2], [3,5,3], [5,6,9]])\n",
    "s = sum(C[:])\n",
    "print(s)\n",
    "a=sum(C)\n",
    "print(a)"
   ]
  }
 ],
 "metadata": {
  "kernelspec": {
   "display_name": "Python 3 (ipykernel)",
   "language": "python",
   "name": "python3"
  },
  "language_info": {
   "codemirror_mode": {
    "name": "ipython",
    "version": 3
   },
   "file_extension": ".py",
   "mimetype": "text/x-python",
   "name": "python",
   "nbconvert_exporter": "python",
   "pygments_lexer": "ipython3",
   "version": "3.9.18"
  }
 },
 "nbformat": 4,
 "nbformat_minor": 5
}
