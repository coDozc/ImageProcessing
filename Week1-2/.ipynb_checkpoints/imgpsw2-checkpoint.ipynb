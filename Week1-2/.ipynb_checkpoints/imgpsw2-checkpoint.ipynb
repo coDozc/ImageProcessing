{
 "cells": [
  {
   "cell_type": "code",
   "execution_count": 7,
   "id": "d6eff82c-1d7b-481d-8cfd-51dc5618cb0c",
   "metadata": {
    "tags": []
   },
   "outputs": [],
   "source": [
    "import cv2\n",
    "import numpy as np\n"
   ]
  },
  {
   "cell_type": "code",
   "execution_count": 19,
   "id": "7e51dc25-0e6f-43aa-a968-accf7af4e4dd",
   "metadata": {
    "tags": []
   },
   "outputs": [],
   "source": [
    "try:\n",
    "    # Resmi yükle\n",
    "    img = cv2.imread('C:\\\\Users\\\\ozcan\\\\lotus-978659_640.jpg')\n",
    "\n",
    "    if img is not None and img.size != 0:\n",
    "        cv2.imshow('Flower', img)\n",
    "        \n",
    "    else:\n",
    "        print(\"Resim yüklenemedi veya boyutları sıfır. Lütfen dosya yolunu kontrol edin.\")\n",
    "except Exception as e:\n",
    "    print(\"Hata:\", e)"
   ]
  },
  {
   "cell_type": "raw",
   "id": "21c3be86-293d-41c0-87fc-c434a3bc6f50",
   "metadata": {},
   "source": [
    "print(img.size)\n",
    "print(img.dtype)\n",
    "print(img.shape)"
   ]
  },
  {
   "cell_type": "code",
   "execution_count": 20,
   "id": "2bb777cb-4949-46ea-b365-d178b8d77be3",
   "metadata": {
    "tags": []
   },
   "outputs": [],
   "source": [
    "cv2.waitKey(0)\n",
    "cv2.destroyAllWindows()"
   ]
  }
 ],
 "metadata": {
  "kernelspec": {
   "display_name": "Python 3 (ipykernel)",
   "language": "python",
   "name": "python3"
  },
  "language_info": {
   "codemirror_mode": {
    "name": "ipython",
    "version": 3
   },
   "file_extension": ".py",
   "mimetype": "text/x-python",
   "name": "python",
   "nbconvert_exporter": "python",
   "pygments_lexer": "ipython3",
   "version": "3.9.18"
  }
 },
 "nbformat": 4,
 "nbformat_minor": 5
}
