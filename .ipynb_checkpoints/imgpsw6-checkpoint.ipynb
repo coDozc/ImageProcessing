{
 "cells": [
  {
   "cell_type": "code",
   "execution_count": null,
   "id": "9bb18f25-1022-40ba-9905-16872424c556",
   "metadata": {
    "tags": []
   },
   "outputs": [],
   "source": [
    "import sys\n",
    "import cv2 as cv\n",
    "from matplotlib import pyplot as plt\n",
    "import numpy as np"
   ]
  },
  {
   "cell_type": "code",
   "execution_count": null,
   "id": "813fb2dd-ae88-4ef1-b372-591dc965e5df",
   "metadata": {
    "tags": []
   },
   "outputs": [],
   "source": [
    "ddepth = cv.CV_16S\n",
    "kernel_size = 3\n",
    "window_name = \"Laplace Demo\"\n",
    "\n",
    "imageName = \"C:\\\\Users\\\\ozcan\\\\PIA00034.jpg\"\n",
    "src = cv.imread(cv.samples.findFile(imageName), cv.IMREAD_COLOR)\n",
    "print(src.shape)\n",
    "plt.imshow(src)\n",
    "plt.show()"
   ]
  },
  {
   "cell_type": "code",
   "execution_count": null,
   "id": "d092308f-f31a-4618-913c-5cb9372f9829",
   "metadata": {
    "tags": []
   },
   "outputs": [],
   "source": [
    "src = cv.GaussianBlur(src, (3,3) , 0)\n",
    "plt.imshow(src)\n",
    "plt.show()"
   ]
  },
  {
   "cell_type": "code",
   "execution_count": null,
   "id": "07fdbd47-7535-4388-8165-19c65f63c2f9",
   "metadata": {
    "tags": []
   },
   "outputs": [],
   "source": [
    "src_gray = cv.cvtColor(src,cv.COLOR_BGR2GRAY)\n",
    "cv.namedWindow(window_name, cv.WINDOW_AUTOSIZE)\n",
    "dst = cv.Laplacian(src_gray, ddepth, ksize=kernel_size)\n",
    "abs_dst= cv.convertScaleAbs(dst)\n",
    "print(src_gray.dtype)\n",
    "print(dst.dtype)\n",
    "result_image = cv.addWeighted(src_gray, 1.5, dst,-0.5,0 dtype=cv.CV_8U)\n",
    "#cv.imshow(window_name , abs_dst)\n",
    "cv.imshow('Result Image',result_image)\n",
    "cv.waitKey(0)\n",
    "cv.destroyAllWindows()"
   ]
  },
  {
   "cell_type": "code",
   "execution_count": null,
   "id": "1af23b79-d760-456e-bf06-ba6a675c756f",
   "metadata": {},
   "outputs": [],
   "source": []
  }
 ],
 "metadata": {
  "kernelspec": {
   "display_name": "Python 3 (ipykernel)",
   "language": "python",
   "name": "python3"
  },
  "language_info": {
   "codemirror_mode": {
    "name": "ipython",
    "version": 3
   },
   "file_extension": ".py",
   "mimetype": "text/x-python",
   "name": "python",
   "nbconvert_exporter": "python",
   "pygments_lexer": "ipython3",
   "version": "3.9.18"
  }
 },
 "nbformat": 4,
 "nbformat_minor": 5
}
