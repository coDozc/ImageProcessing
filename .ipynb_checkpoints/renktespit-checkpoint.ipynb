{
 "cells": [
  {
   "cell_type": "code",
   "execution_count": 3,
   "id": "864352b4-7830-4122-8da1-6fd7f4a68b71",
   "metadata": {
    "tags": []
   },
   "outputs": [],
   "source": [
    "import cv2 as cv\n",
    "import numpy as np"
   ]
  },
  {
   "cell_type": "code",
   "execution_count": 15,
   "id": "c0845157-af7f-4078-acbc-e62c4ed3bc70",
   "metadata": {
    "tags": []
   },
   "outputs": [],
   "source": [
    "def TiklamaOlayi(olay, x, y, flags, param):\n",
    "    if olay== cv.EVENT_LBUTTONDOWN:\n",
    "        h = hsv[y, x, 0]\n",
    "        s = hsv[y, x, 1]\n",
    "        v = hsv[y, x, 2]\n",
    "        hsvUzayi = 'HSV: ' + str(h)+ ' '+ str(s)+ ' ' + str(v)\n",
    "        cv.putText(goruntu, hsvUzayi, (x,y), cv.FONT_HERSHEY_PLAIN, 1, (0,0,255),1 )\n",
    "        cv.imshow(\"Goruntu\", goruntu)\n",
    "        \n",
    "genislik = 1920\n",
    "yukseklik = 1080\n",
    "\n",
    "goruntu = cv.imread(\"C:\\\\Users\\\\ozcan\\\\pexels-benjamin-suter-3733269.jpg\")\n",
    "goruntu = cv.resize(goruntu, (genislik, yukseklik))\n",
    "hsv = cv.cvtColor(goruntu, cv.COLOR_BGR2HSV)\n",
    "cv.imshow(\"Goruntu\", goruntu)\n",
    "cv.setMouseCallback('Goruntu', TiklamaOlayi)\n",
    "\n",
    "cv.waitKey(0)\n",
    "cv.destroyAllWindows()"
   ]
  }
 ],
 "metadata": {
  "kernelspec": {
   "display_name": "Python 3 (ipykernel)",
   "language": "python",
   "name": "python3"
  },
  "language_info": {
   "codemirror_mode": {
    "name": "ipython",
    "version": 3
   },
   "file_extension": ".py",
   "mimetype": "text/x-python",
   "name": "python",
   "nbconvert_exporter": "python",
   "pygments_lexer": "ipython3",
   "version": "3.9.18"
  }
 },
 "nbformat": 4,
 "nbformat_minor": 5
}
