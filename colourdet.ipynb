{
 "cells": [
  {
   "cell_type": "code",
   "execution_count": 13,
   "id": "8ad2d972-9db5-4a7e-870e-a62a8007c366",
   "metadata": {
    "tags": []
   },
   "outputs": [],
   "source": [
    "import cv2 as cv\n",
    "import numpy as np\n",
    "cap = cv.VideoCapture(0)\n",
    "alt_aralikr = np.array([126,188,47])\n",
    "ust_aralikr = np.array([179,255,255])\n",
    "alt_aralikb = np.array([88,176,40])\n",
    "ust_aralikb = np.array([133,255,255])\n",
    "\n",
    "                      "
   ]
  },
  {
   "cell_type": "code",
   "execution_count": 14,
   "id": "058a0cf6-5b45-446f-aa03-23287bc218d4",
   "metadata": {
    "tags": []
   },
   "outputs": [],
   "source": [
    "def kirmizi(img):\n",
    "    hsv=cv.cvtColor(frame,cv.COLOR_BGR2HSV)\n",
    "    mask=cv.inRange(hsv,alt_aralikr,ust_aralikr)\n",
    "    _,mask1=cv.threshold(mask,254,255,cv.THRESH_BINARY)\n",
    "    cnts,_=cv.findContours(mask1,cv.RETR_EXTERNAL, cv.CHAIN_APPROX_NONE)\n",
    "    a=[]\n",
    "    for c in cnts:\n",
    "        x=600\n",
    "        if cv.contourArea(c)>x:\n",
    "            x,y,w,h=cv.boundingRect(c)\n",
    "            a.append(x)\n",
    "            x2=int(x+x+w)//2\n",
    "            y2=int(y+y+h)//2\n",
    "            cv.circle(img,(x2,y2),4,(255,0,255),-1)\n",
    "            cv.rectangle(frame,(x,y),(x+w,y+h),(0,0,255),2)\n",
    "            cv.putText(frame,(\"DUSMAN\"),(10,60),cv.FONT_HERSHEY_SIMPLEX,0.6,(0,0,255),2)\n",
    "\n",
    "def mavi(img):\n",
    "    hsv=cv.cvtColor(frame,cv.COLOR_BGR2HSV)\n",
    "    mask=cv.inRange(hsv,alt_aralikb,ust_aralikb)\n",
    "    _,mask1=cv.threshold(mask,254,255,cv.THRESH_BINARY)\n",
    "    cnts,_=cv.findContours(mask1,cv.RETR_EXTERNAL, cv.CHAIN_APPROX_NONE)\n",
    "    b=[]\n",
    "    for c in cnts:\n",
    "        x=600\n",
    "        if cv.contourArea(c)>x:\n",
    "            x,y,w,h=cv.boundingRect(c)\n",
    "            cv.rectangle(frame,(x,y),(x+w,y+h),(255,0,0),2)\n",
    "            cv.putText(frame,(\"DOST\"),(10,460),cv.FONT_HERSHEY_SIMPLEX,0.6,(255,0,0),2)            \n",
    "            \n",
    "while True:\n",
    "    ret,frame=cap.read()\n",
    "    frame=cv.resize(frame,(640,480))\n",
    "    kirmizi(frame)\n",
    "    mavi(frame)\n",
    "    \n",
    "    cv.imshow(\"EKRAN\",frame)\n",
    "    if cv.waitKey(1)&0xFF== ('q'):\n",
    "        break\n",
    "cap.release()\n",
    "cv.destroyAllWindows()\n"
   ]
  },
  {
   "cell_type": "code",
   "execution_count": null,
   "id": "d0e55b47-99cd-4093-a5b9-52d1376c780e",
   "metadata": {},
   "outputs": [],
   "source": []
  }
 ],
 "metadata": {
  "kernelspec": {
   "display_name": "Python 3 (ipykernel)",
   "language": "python",
   "name": "python3"
  },
  "language_info": {
   "codemirror_mode": {
    "name": "ipython",
    "version": 3
   },
   "file_extension": ".py",
   "mimetype": "text/x-python",
   "name": "python",
   "nbconvert_exporter": "python",
   "pygments_lexer": "ipython3",
   "version": "3.9.18"
  }
 },
 "nbformat": 4,
 "nbformat_minor": 5
}
